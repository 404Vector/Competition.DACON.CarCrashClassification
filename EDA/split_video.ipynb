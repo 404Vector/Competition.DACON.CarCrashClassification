{
 "cells": [
  {
   "cell_type": "markdown",
   "metadata": {},
   "source": [
    "# Split Video"
   ]
  },
  {
   "cell_type": "markdown",
   "metadata": {},
   "source": [
    "## Import"
   ]
  },
  {
   "cell_type": "code",
   "execution_count": 41,
   "metadata": {},
   "outputs": [],
   "source": [
    "import pandas as pd\n",
    "import os\n",
    "import sys\n",
    "sys.path.append('..')\n",
    "from Module import Result \n",
    "from tqdm import tqdm\n",
    "import numpy as np\n",
    "import cv2"
   ]
  },
  {
   "cell_type": "markdown",
   "metadata": {},
   "source": [
    "## Set Config"
   ]
  },
  {
   "cell_type": "code",
   "execution_count": 42,
   "metadata": {},
   "outputs": [],
   "source": [
    "CONFIG = {\n",
    "    \"data_path\" : '../data',\n",
    "    \"target_csv\" : \"train.csv\",\n",
    "    \"split_result_path\" : \"../data/split_video.result\",\n",
    "    \"csv_result_path\" : \"../data/split_video.csv\",\n",
    "}"
   ]
  },
  {
   "cell_type": "markdown",
   "metadata": {},
   "source": [
    "## Load CSV"
   ]
  },
  {
   "cell_type": "code",
   "execution_count": 43,
   "metadata": {},
   "outputs": [],
   "source": [
    "csv_path = os.path.join(CONFIG['data_path'], CONFIG['target_csv'])\n",
    "data_frame = pd.read_csv(csv_path) # column : sample_id, video_path, label\n",
    "os.makedirs(CONFIG['split_result_path'], exist_ok=True)"
   ]
  },
  {
   "cell_type": "markdown",
   "metadata": {},
   "source": [
    "## Split Video"
   ]
  },
  {
   "cell_type": "code",
   "execution_count": 44,
   "metadata": {},
   "outputs": [],
   "source": [
    "def split_video(data:np.ndarray, result_path:str):\n",
    "    sample_id = data[0]\n",
    "    video_path = os.path.join(CONFIG['data_path'], data[1][2:])\n",
    "    label = data[2]\n",
    "    result = Result(label=label)\n",
    "    video = cv2.VideoCapture(video_path)\n",
    "    frame_count = int(video.get(cv2.CAP_PROP_FRAME_COUNT))\n",
    "    results = []\n",
    "    for frame_idx in range(frame_count):\n",
    "        _, img = video.read()\n",
    "        image_name = f\"{sample_id}_{label}-{frame_idx}_{result.encoded_crash}_{result.encoded_ego_involve}_{result.encoded_weather}_{result.encoded_timing}.jpg\"\n",
    "        iamge_path = os.path.join(result_path, image_name)\n",
    "        cv2.imwrite(iamge_path,img)\n",
    "        results.append({\n",
    "            'image_name' : image_name,\n",
    "            'sample_id' : sample_id,\n",
    "            'label' : label,\n",
    "            'frame_idx' : frame_idx,\n",
    "            'crash' : result.encoded_crash,\n",
    "            'ego_involve' : result.encoded_ego_involve,\n",
    "            'weather' : result.encoded_weather,\n",
    "            'timing' : result.encoded_timing,\n",
    "        })\n",
    "    return results"
   ]
  },
  {
   "cell_type": "code",
   "execution_count": 45,
   "metadata": {},
   "outputs": [
    {
     "name": "stderr",
     "output_type": "stream",
     "text": [
      "100%|██████████| 2698/2698 [57:43<00:00,  1.28s/it] \n"
     ]
    }
   ],
   "source": [
    "results = []\n",
    "for data in tqdm(data_frame.values):\n",
    "    [results.append(rs) for rs in split_video(data, CONFIG['split_result_path'])]"
   ]
  },
  {
   "cell_type": "markdown",
   "metadata": {},
   "source": [
    "## Save Result CSV"
   ]
  },
  {
   "cell_type": "code",
   "execution_count": 46,
   "metadata": {},
   "outputs": [],
   "source": [
    "results_frame = pd.DataFrame(results)\n",
    "results_frame.head()\n",
    "results_frame.to_csv(CONFIG['csv_result_path'], index=False)"
   ]
  }
 ],
 "metadata": {
  "kernelspec": {
   "display_name": "Python 3.9.2 ('Competition.DACON.CarCrashClassification-rsQIYARr': pipenv)",
   "language": "python",
   "name": "python3"
  },
  "language_info": {
   "codemirror_mode": {
    "name": "ipython",
    "version": 3
   },
   "file_extension": ".py",
   "mimetype": "text/x-python",
   "name": "python",
   "nbconvert_exporter": "python",
   "pygments_lexer": "ipython3",
   "version": "3.9.2"
  },
  "orig_nbformat": 4,
  "vscode": {
   "interpreter": {
    "hash": "0708a3816d7fb8089c252f0eb3caaefe3f5ec8278a81194e2f005e0372fba3bc"
   }
  }
 },
 "nbformat": 4,
 "nbformat_minor": 2
}
